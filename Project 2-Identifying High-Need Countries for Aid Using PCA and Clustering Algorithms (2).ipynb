{
 "cells": [
  {
   "cell_type": "code",
   "execution_count": 18,
   "id": "1f034f0d",
   "metadata": {},
   "outputs": [],
   "source": [
    "import pandas as pd\n",
    "import numpy as np\n",
    "import matplotlib.pyplot as plt\n",
    "from sklearn.preprocessing import StandardScaler\n",
    "from sklearn.decomposition import PCA \n",
    "from sklearn.model_selection import train_test_split\n",
    "from sklearn.cluster import KMeans\n",
    "from scipy.cluster.hierarchy import dendrogram, linkage"
   ]
  },
  {
   "cell_type": "code",
   "execution_count": 19,
   "id": "bb5ddcbc",
   "metadata": {},
   "outputs": [
    {
     "name": "stdout",
     "output_type": "stream",
     "text": [
      "<class 'pandas.core.frame.DataFrame'>\n",
      "RangeIndex: 167 entries, 0 to 166\n",
      "Data columns (total 10 columns):\n",
      " #   Column      Non-Null Count  Dtype  \n",
      "---  ------      --------------  -----  \n",
      " 0   country     167 non-null    object \n",
      " 1   child_mort  167 non-null    float64\n",
      " 2   exports     167 non-null    float64\n",
      " 3   health      167 non-null    float64\n",
      " 4   imports     167 non-null    float64\n",
      " 5   income      167 non-null    int64  \n",
      " 6   inflation   167 non-null    float64\n",
      " 7   life_expec  167 non-null    float64\n",
      " 8   total_fer   167 non-null    float64\n",
      " 9   gdpp        167 non-null    int64  \n",
      "dtypes: float64(7), int64(2), object(1)\n",
      "memory usage: 13.2+ KB\n",
      "None\n"
     ]
    }
   ],
   "source": [
    "country_data= pd.read_csv('Country-data.csv')\n",
    "print(country_data.info())"
   ]
  },
  {
   "cell_type": "code",
   "execution_count": 20,
   "id": "ea46e26b",
   "metadata": {},
   "outputs": [
    {
     "name": "stdout",
     "output_type": "stream",
     "text": [
      "country       0\n",
      "child_mort    0\n",
      "exports       0\n",
      "health        0\n",
      "imports       0\n",
      "income        0\n",
      "inflation     0\n",
      "life_expec    0\n",
      "total_fer     0\n",
      "gdpp          0\n",
      "dtype: int64\n"
     ]
    }
   ],
   "source": [
    "print(country_data.isnull().sum()) ##Since there are no null alues we dont have any NAN values to remove"
   ]
  },
  {
   "cell_type": "code",
   "execution_count": 21,
   "id": "fd3a5180",
   "metadata": {
    "scrolled": true
   },
   "outputs": [
    {
     "data": {
      "text/html": [
       "<div>\n",
       "<style scoped>\n",
       "    .dataframe tbody tr th:only-of-type {\n",
       "        vertical-align: middle;\n",
       "    }\n",
       "\n",
       "    .dataframe tbody tr th {\n",
       "        vertical-align: top;\n",
       "    }\n",
       "\n",
       "    .dataframe thead th {\n",
       "        text-align: right;\n",
       "    }\n",
       "</style>\n",
       "<table border=\"1\" class=\"dataframe\">\n",
       "  <thead>\n",
       "    <tr style=\"text-align: right;\">\n",
       "      <th></th>\n",
       "      <th>country</th>\n",
       "      <th>child_mort</th>\n",
       "      <th>exports</th>\n",
       "      <th>health</th>\n",
       "      <th>imports</th>\n",
       "      <th>income</th>\n",
       "      <th>inflation</th>\n",
       "      <th>life_expec</th>\n",
       "      <th>total_fer</th>\n",
       "      <th>gdpp</th>\n",
       "    </tr>\n",
       "  </thead>\n",
       "  <tbody>\n",
       "    <tr>\n",
       "      <th>0</th>\n",
       "      <td>Afghanistan</td>\n",
       "      <td>90.2</td>\n",
       "      <td>10.0</td>\n",
       "      <td>7.58</td>\n",
       "      <td>44.9</td>\n",
       "      <td>1610</td>\n",
       "      <td>9.44</td>\n",
       "      <td>56.2</td>\n",
       "      <td>5.82</td>\n",
       "      <td>553</td>\n",
       "    </tr>\n",
       "    <tr>\n",
       "      <th>1</th>\n",
       "      <td>Albania</td>\n",
       "      <td>16.6</td>\n",
       "      <td>28.0</td>\n",
       "      <td>6.55</td>\n",
       "      <td>48.6</td>\n",
       "      <td>9930</td>\n",
       "      <td>4.49</td>\n",
       "      <td>76.3</td>\n",
       "      <td>1.65</td>\n",
       "      <td>4090</td>\n",
       "    </tr>\n",
       "    <tr>\n",
       "      <th>2</th>\n",
       "      <td>Algeria</td>\n",
       "      <td>27.3</td>\n",
       "      <td>38.4</td>\n",
       "      <td>4.17</td>\n",
       "      <td>31.4</td>\n",
       "      <td>12900</td>\n",
       "      <td>16.10</td>\n",
       "      <td>76.5</td>\n",
       "      <td>2.89</td>\n",
       "      <td>4460</td>\n",
       "    </tr>\n",
       "    <tr>\n",
       "      <th>3</th>\n",
       "      <td>Angola</td>\n",
       "      <td>119.0</td>\n",
       "      <td>62.3</td>\n",
       "      <td>2.85</td>\n",
       "      <td>42.9</td>\n",
       "      <td>5900</td>\n",
       "      <td>22.40</td>\n",
       "      <td>60.1</td>\n",
       "      <td>6.16</td>\n",
       "      <td>3530</td>\n",
       "    </tr>\n",
       "    <tr>\n",
       "      <th>4</th>\n",
       "      <td>Antigua and Barbuda</td>\n",
       "      <td>10.3</td>\n",
       "      <td>45.5</td>\n",
       "      <td>6.03</td>\n",
       "      <td>58.9</td>\n",
       "      <td>19100</td>\n",
       "      <td>1.44</td>\n",
       "      <td>76.8</td>\n",
       "      <td>2.13</td>\n",
       "      <td>12200</td>\n",
       "    </tr>\n",
       "  </tbody>\n",
       "</table>\n",
       "</div>"
      ],
      "text/plain": [
       "               country  child_mort  exports  health  imports  income  \\\n",
       "0          Afghanistan        90.2     10.0    7.58     44.9    1610   \n",
       "1              Albania        16.6     28.0    6.55     48.6    9930   \n",
       "2              Algeria        27.3     38.4    4.17     31.4   12900   \n",
       "3               Angola       119.0     62.3    2.85     42.9    5900   \n",
       "4  Antigua and Barbuda        10.3     45.5    6.03     58.9   19100   \n",
       "\n",
       "   inflation  life_expec  total_fer   gdpp  \n",
       "0       9.44        56.2       5.82    553  \n",
       "1       4.49        76.3       1.65   4090  \n",
       "2      16.10        76.5       2.89   4460  \n",
       "3      22.40        60.1       6.16   3530  \n",
       "4       1.44        76.8       2.13  12200  "
      ]
     },
     "execution_count": 21,
     "metadata": {},
     "output_type": "execute_result"
    }
   ],
   "source": [
    "country_data.head()"
   ]
  },
  {
   "cell_type": "markdown",
   "id": "e7bccd5f",
   "metadata": {},
   "source": [
    "We will check if there are any duplicates on the basis of country to check if there are any double entries of any country; From the result it is clear that we dont have any duplicate entries"
   ]
  },
  {
   "cell_type": "code",
   "execution_count": 22,
   "id": "0a391980",
   "metadata": {},
   "outputs": [
    {
     "name": "stdout",
     "output_type": "stream",
     "text": [
      "Number of duplicates on the basis of country column: 0\n"
     ]
    }
   ],
   "source": [
    "duplicates_in_one_column = len(country_data['country']) - len(country_data['country'].drop_duplicates())\n",
    "print(f\"Number of duplicates on the basis of country column: {duplicates_in_one_column}\")"
   ]
  },
  {
   "cell_type": "markdown",
   "id": "281f2f1c",
   "metadata": {},
   "source": [
    "Now we will Stadardise the data"
   ]
  },
  {
   "cell_type": "code",
   "execution_count": 23,
   "id": "7135273e",
   "metadata": {},
   "outputs": [],
   "source": [
    "columns_to_normalize = country_data.select_dtypes(include=['float64', 'int64']).columns"
   ]
  },
  {
   "cell_type": "code",
   "execution_count": 24,
   "id": "4c294555",
   "metadata": {},
   "outputs": [],
   "source": [
    "train_X, test_X=train_test_split(country_data[columns_to_normalize],test_size=0.3, random_state=1)"
   ]
  },
  {
   "cell_type": "code",
   "execution_count": 25,
   "id": "370feda6",
   "metadata": {},
   "outputs": [],
   "source": [
    "scaler=StandardScaler()"
   ]
  },
  {
   "cell_type": "code",
   "execution_count": 26,
   "id": "ad74e8f3",
   "metadata": {},
   "outputs": [
    {
     "data": {
      "text/plain": [
       "StandardScaler()"
      ]
     },
     "execution_count": 26,
     "metadata": {},
     "output_type": "execute_result"
    }
   ],
   "source": [
    "scaler.fit(train_X)"
   ]
  },
  {
   "cell_type": "code",
   "execution_count": 27,
   "id": "de50c6db",
   "metadata": {},
   "outputs": [],
   "source": [
    "train_X=scaler.transform(train_X)"
   ]
  },
  {
   "cell_type": "code",
   "execution_count": 28,
   "id": "42fc8b11",
   "metadata": {},
   "outputs": [],
   "source": [
    "test_X=scaler.transform(test_X)"
   ]
  },
  {
   "cell_type": "code",
   "execution_count": 29,
   "id": "a2288d23",
   "metadata": {},
   "outputs": [],
   "source": [
    "train_X = pd.DataFrame(train_X, columns=columns_to_normalize)\n",
    "test_X= pd.DataFrame(test_X, columns=columns_to_normalize)"
   ]
  },
  {
   "cell_type": "markdown",
   "id": "015ac37f",
   "metadata": {},
   "source": [
    "Now, PCA(Principle Companant Analysis Technique) is applied to reduce the dimensionality of the data while retaining 90% of the varianceas it will help to simplify the complexity of the data and aided in visualization."
   ]
  },
  {
   "cell_type": "code",
   "execution_count": 30,
   "id": "9c477da1",
   "metadata": {},
   "outputs": [
    {
     "data": {
      "image/png": "[encoded data removed]",
      "text/plain": [
       "<Figure size 720x360 with 1 Axes>"
      ]
     },
     "metadata": {
      "needs_background": "light"
     },
     "output_type": "display_data"
    }
   ],
   "source": [
    "# Initialize PCA, retaining 90% of variance\n",
    "pca = PCA(n_components=0.9)\n",
    "\n",
    "# Fit and transform the normalized data\n",
    "X_train_pca = pca.fit_transform(train_X)\n",
    "X_test_pca = pca.transform(test_X)\n",
    "\n",
    "# Plot the explained variance to understand the components\n",
    "plt.figure(figsize=(10, 5))\n",
    "plt.plot(range(1, len(pca.explained_variance_ratio_) + 1), pca.explained_variance_ratio_.cumsum(), marker='o')\n",
    "plt.xlabel('Number of Components')\n",
    "plt.ylabel('Cumulative Explained Variance')\n",
    "plt.show()\n"
   ]
  },
  {
   "cell_type": "markdown",
   "id": "6631d85a",
   "metadata": {},
   "source": [
    "I used K-mean Clustrering Elbow method to get most optimal number of clusters, according to which country will be labelled. I assumed the most optimal clusted as 4."
   ]
  },
  {
   "cell_type": "code",
   "execution_count": 31,
   "id": "0bc3fcbd",
   "metadata": {},
   "outputs": [
    {
     "name": "stderr",
     "output_type": "stream",
     "text": [
      "C:\\Users\\257380\\anaconda3\\lib\\site-packages\\sklearn\\cluster\\_kmeans.py:1036: UserWarning: KMeans is known to have a memory leak on Windows with MKL, when there are less chunks than available threads. You can avoid it by setting the environment variable OMP_NUM_THREADS=1.\n",
      "  warnings.warn(\n"
     ]
    },
    {
     "data": {
      "image/png": "[encoded data removed]",
      "text/plain": [
       "<Figure size 720x360 with 1 Axes>"
      ]
     },
     "metadata": {
      "needs_background": "light"
     },
     "output_type": "display_data"
    }
   ],
   "source": [
    "wcss = []\n",
    "for i in range(1, 11):\n",
    "    kmeans = KMeans(n_clusters=i, random_state=42)\n",
    "    kmeans.fit(X_train_pca)\n",
    "    wcss.append(kmeans.inertia_)\n",
    "\n",
    "plt.figure(figsize=(10, 5))\n",
    "plt.plot(range(1, 11), wcss, marker='o')\n",
    "plt.xlabel('Number of Clusters')\n",
    "plt.ylabel('WCSS')\n",
    "plt.title('Elbow Method For Optimal Clusters')\n",
    "plt.show()"
   ]
  },
  {
   "cell_type": "code",
   "execution_count": 32,
   "id": "40cb7998",
   "metadata": {},
   "outputs": [],
   "source": [
    "# Assuming the elbow method suggests 4 clusters\n",
    "\n",
    "kmeans = KMeans(n_clusters=4, random_state=42)\n",
    "train_clusters = kmeans.fit_predict(X_train_pca)\n",
    "test_clusters = kmeans.predict(X_test_pca)\n",
    "\n",
    "# Add the cluster labels to the original data\n",
    "country_data.loc[train_X.index, 'Cluster'] = train_clusters\n",
    "country_data.loc[test_X.index, 'Cluster'] = test_clusters\n"
   ]
  },
  {
   "cell_type": "markdown",
   "id": "92fc9f6d",
   "metadata": {},
   "source": [
    " Then,Hierarchical clustering is performed using ward linkage which provided a dendrogram that helped to visualize nested relationships between countries."
   ]
  },
  {
   "cell_type": "code",
   "execution_count": 33,
   "id": "8df5b400",
   "metadata": {},
   "outputs": [
    {
     "data": {
      "image/png": "[encoded data removed]",
      "text/plain": [
       "<Figure size 2520x720 with 1 Axes>"
      ]
     },
     "metadata": {
      "needs_background": "light"
     },
     "output_type": "display_data"
    }
   ],
   "source": [
    "# Using 'ward' linkage to minimize variance within clusters\n",
    "Z = linkage(X_train_pca, method='ward')\n",
    "\n",
    "plt.figure(figsize=(35, 10))\n",
    "dendrogram(Z, labels=train_X.index, leaf_rotation=90, leaf_font_size=10)\n",
    "plt.title('Dendrogram')\n",
    "plt.xlabel('Countries')\n",
    "plt.ylabel('Euclidean Distances')\n",
    "plt.show()\n"
   ]
  },
  {
   "cell_type": "code",
   "execution_count": 34,
   "id": "ee79bbe5",
   "metadata": {},
   "outputs": [],
   "source": [
    "from sklearn.cluster import AgglomerativeClustering\n",
    "\n",
    "# Fit Agglomerative Clustering\n",
    "hc = AgglomerativeClustering(n_clusters=4, affinity='euclidean', linkage='ward')\n",
    "train_hc_clusters = hc.fit_predict(X_train_pca)\n",
    "\n",
    "# Predict clusters for test data\n",
    "test_hc_clusters = hc.fit_predict(X_test_pca)\n",
    "\n",
    "# Add the hierarchical cluster labels to the original data\n",
    "country_data.loc[train_X.index, 'HC_Cluster'] = train_hc_clusters\n",
    "country_data.loc[test_X.index, 'HC_Cluster'] = test_hc_clusters\n"
   ]
  },
  {
   "cell_type": "markdown",
   "id": "189e8c42",
   "metadata": {},
   "source": [
    "Clusters have been summarized on the basis of mean values and accordingly cluster analysis can be done and through which indicators to be used for selection of countries is chosen."
   ]
  },
  {
   "cell_type": "code",
   "execution_count": 36,
   "id": "1bf7f618",
   "metadata": {},
   "outputs": [
    {
     "name": "stdout",
     "output_type": "stream",
     "text": [
      "         child_mort    exports    health    imports        income  inflation  \\\n",
      "Cluster                                                                        \n",
      "0.0       45.458621  38.016897  5.793448  42.451724  14382.896552  10.979379   \n",
      "1.0       38.708333  42.750483  6.919167  47.247765  18897.050000   7.116533   \n",
      "2.0       40.450000  29.900000  7.660000  36.950000  17680.000000  10.165000   \n",
      "3.0       42.932000  40.175200  7.552800  54.508000  12959.440000   5.381160   \n",
      "\n",
      "         life_expec  total_fer          gdpp  HC_Cluster  \n",
      "Cluster                                                   \n",
      "0.0       70.703448   3.217241  10571.827586    0.862069  \n",
      "1.0       70.435000   2.851500  15242.150000    1.750000  \n",
      "2.0       71.550000   3.220000  17505.000000    3.000000  \n",
      "3.0       68.528000   3.032800   9500.680000    0.760000  \n",
      "Recommended Countries for Aid Allocation according to highest clusters that is Child Mortality(child_mort) ,GDP(gdpp) and\n",
      " Lower Life Expectancy(life_expec):\n",
      "                      country   gdpp  life_expec  child_mort  Cluster\n",
      "0                 Afghanistan    553        56.2        90.2      3.0\n",
      "5                   Argentina  10300        75.8        14.5      3.0\n",
      "14                    Belarus   6030        70.4         5.5      3.0\n",
      "15                    Belgium  44400        80.0         4.5      3.0\n",
      "21                   Botswana   6350        57.1        52.5      3.0\n",
      "24                   Bulgaria   6840        73.9        10.8      3.0\n",
      "25               Burkina Faso    575        57.9       116.0      3.0\n",
      "31   Central African Republic    446        47.5       149.0      3.0\n",
      "33                      Chile  12900        79.1         8.7      3.0\n",
      "35                   Colombia   6250        76.4        18.6      3.0\n",
      "48                El Salvador   2990        74.1        19.2      3.0\n",
      "56                     Gambia    562        65.5        80.3      3.0\n",
      "60                     Greece  26900        80.4         3.9      3.0\n",
      "64              Guinea-Bissau    547        55.6       114.0      3.0\n",
      "65                     Guyana   3040        65.5        37.6      3.0\n",
      "67                    Hungary  13100        74.5         6.0      3.0\n",
      "73                    Ireland  48700        80.4         4.2      3.0\n",
      "81                   Kiribati   1490        60.7        62.7      3.0\n",
      "85                     Latvia  11300        73.1         7.8      3.0\n",
      "86                    Lebanon   8860        79.8        10.3      3.0\n",
      "93                 Madagascar    413        60.8        62.2      3.0\n",
      "98                      Malta  21100        80.3         6.8      3.0\n",
      "101     Micronesia, Fed. Sts.   2860        65.4        40.0      3.0\n",
      "106                Mozambique    419        54.5       101.0      3.0\n",
      "109                     Nepal    592        68.3        47.0      3.0\n"
     ]
    }
   ],
   "source": [
    "# Summarize clusters\n",
    "cluster_summary = country_data.groupby('Cluster').mean()\n",
    "print(cluster_summary)\n",
    "\n",
    "# Assuming lower GDP per capita, higher infant mortality, and lower life expectancy indicate higher need\n",
    "priority_clusters = cluster_summary.sort_values(by=['gdpp', 'life_expec', 'child_mort'], ascending=[True, False, True])\n",
    "\n",
    "# Extract countries in the highest priority cluster\n",
    "priority_cluster_index = priority_clusters.index[0]\n",
    "priority_countries = country_data[country_data['Cluster'] == priority_cluster_index]\n",
    "\n",
    "print(\"Recommended Countries for Aid Allocation according to highest clusters that is Child Mortality(child_mort) ,GDP(gdpp) and\\n Lower Life Expectancy(life_expec):\")\n",
    "print(priority_countries[['country', 'gdpp', 'life_expec', 'child_mort', 'Cluster']])\n"
   ]
  },
  {
   "cell_type": "code",
   "execution_count": null,
   "id": "f77fd640",
   "metadata": {},
   "outputs": [],
   "source": []
  }
 ],
 "metadata": {
  "kernelspec": {
   "display_name": "Python 3 (ipykernel)",
   "language": "python",
   "name": "python3"
  },
  "language_info": {
   "codemirror_mode": {
    "name": "ipython",
    "version": 3
   },
   "file_extension": ".py",
   "mimetype": "text/x-python",
   "name": "python",
   "nbconvert_exporter": "python",
   "pygments_lexer": "ipython3",
   "version": "3.9.12"
  }
 },
 "nbformat": 4,
 "nbformat_minor": 5
}
